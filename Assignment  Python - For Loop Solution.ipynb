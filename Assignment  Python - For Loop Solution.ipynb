{
 "cells": [
  {
   "cell_type": "markdown",
   "id": "bc0a3f79",
   "metadata": {},
   "source": [
    "# Assignment Questions"
   ]
  },
  {
   "cell_type": "markdown",
   "id": "369a43e9",
   "metadata": {},
   "source": [
    "\n",
    "# Basic Level:"
   ]
  },
  {
   "cell_type": "markdown",
   "id": "1784d819",
   "metadata": {},
   "source": [
    "1. Write a Python program to print the numbers from 1 to 10 using a `for` loop"
   ]
  },
  {
   "cell_type": "code",
   "execution_count": 2,
   "id": "89a7df8b",
   "metadata": {},
   "outputs": [
    {
     "name": "stdout",
     "output_type": "stream",
     "text": [
      "1\n",
      "2\n",
      "3\n",
      "4\n",
      "5\n",
      "6\n",
      "7\n",
      "8\n",
      "9\n",
      "10\n"
     ]
    }
   ],
   "source": [
    "for i in range(1, 11):\n",
    "    print(i)"
   ]
  },
  {
   "cell_type": "markdown",
   "id": "289edf3f",
   "metadata": {},
   "source": [
    "2. Create a program that calculates the sum of all numbers in a list using a `for` loop."
   ]
  },
  {
   "cell_type": "code",
   "execution_count": 26,
   "id": "b3bd242b",
   "metadata": {},
   "outputs": [
    {
     "name": "stdout",
     "output_type": "stream",
     "text": [
      "15\n"
     ]
    }
   ],
   "source": [
    "a = [1,2,3,4,5]\n",
    "b = 0\n",
    "for i in a :\n",
    "    b = b + i\n",
    "    \n",
    "print (b)\n",
    "    "
   ]
  },
  {
   "cell_type": "markdown",
   "id": "7fedacff",
   "metadata": {},
   "source": [
    "3.Write a program to print the characters of a string in reverse order using a `for` loop."
   ]
  },
  {
   "cell_type": "code",
   "execution_count": 51,
   "id": "04af9fef",
   "metadata": {},
   "outputs": [
    {
     "name": "stdout",
     "output_type": "stream",
     "text": [
      "g\n",
      "n\n",
      "i\n",
      "r\n",
      "t\n",
      "S\n"
     ]
    }
   ],
   "source": [
    "a = \"String\"\n",
    "for i in a[ : : -1]:\n",
    "    print(i)\n",
    "    "
   ]
  },
  {
   "cell_type": "markdown",
   "id": "9bc73d8b",
   "metadata": {},
   "source": [
    "4.Develop a program that finds the factorial of a given number using a `for` loop."
   ]
  },
  {
   "cell_type": "code",
   "execution_count": 98,
   "id": "dbd0861b",
   "metadata": {},
   "outputs": [
    {
     "name": "stdout",
     "output_type": "stream",
     "text": [
      "Enter the Number: 6\n",
      "Factorial of 6 is 720\n"
     ]
    }
   ],
   "source": [
    "a = int(input(\"Enter the Number: \"))\n",
    "factorial= 1\n",
    "\n",
    "for i in range(1, a+1):\n",
    "    factorial = factorial * i\n",
    "    \n",
    "print(f\"Factorial of {a} is {factorial}\")"
   ]
  },
  {
   "cell_type": "markdown",
   "id": "3290ba8f",
   "metadata": {},
   "source": [
    "5.Create a program to print the multiplication table of a given number using a `for` loop."
   ]
  },
  {
   "cell_type": "code",
   "execution_count": 53,
   "id": "985ce876",
   "metadata": {},
   "outputs": [
    {
     "name": "stdout",
     "output_type": "stream",
     "text": [
      "Enter the Number: 6\n",
      "6 * 1 = 6\n",
      "6 * 2 = 12\n",
      "6 * 3 = 18\n",
      "6 * 4 = 24\n",
      "6 * 5 = 30\n",
      "6 * 6 = 36\n",
      "6 * 7 = 42\n",
      "6 * 8 = 48\n",
      "6 * 9 = 54\n",
      "6 * 10 = 60\n"
     ]
    }
   ],
   "source": [
    "a = int(input(\"Enter the Number: \"))\n",
    "for i in range (1, 11):\n",
    "    b = i*a\n",
    "    print(f\"{a} * {i} = {b}\")"
   ]
  },
  {
   "cell_type": "markdown",
   "id": "21c0ae6a",
   "metadata": {},
   "source": [
    "6.Write a program that counts the number of even and odd numbers in a list using a `for` loop."
   ]
  },
  {
   "cell_type": "code",
   "execution_count": 61,
   "id": "b933c901",
   "metadata": {},
   "outputs": [
    {
     "name": "stdout",
     "output_type": "stream",
     "text": [
      "Count of odd numbers are = 6\n",
      "Count of even numbers are = 5 \n"
     ]
    }
   ],
   "source": [
    "a = [1,2,3,4,5,6,7,8,9,10,11]\n",
    "odd = 0\n",
    "even = 0\n",
    "for i in a:\n",
    "    if i%2 == 0:\n",
    "        even = even +1 \n",
    "    else:\n",
    "        odd = odd +1\n",
    "print(f\"\"\"Count of odd numbers are = {odd}\n",
    "Count of even numbers are = {even} \"\"\")"
   ]
  },
  {
   "cell_type": "markdown",
   "id": "73e07a05",
   "metadata": {},
   "source": [
    "7. Develop a program that prints the squares of numbers from 1 to 5 using a `for` loop."
   ]
  },
  {
   "cell_type": "code",
   "execution_count": 64,
   "id": "afd7f356",
   "metadata": {},
   "outputs": [
    {
     "name": "stdout",
     "output_type": "stream",
     "text": [
      "Square of 1 is 1\n",
      "Square of 2 is 4\n",
      "Square of 3 is 9\n",
      "Square of 4 is 16\n",
      "Square of 5 is 25\n"
     ]
    }
   ],
   "source": [
    "a = [1,2,3,4,5]\n",
    "for i in a:\n",
    "    b = i**2\n",
    "    print(f\"Square of {i} is {b}\")"
   ]
  },
  {
   "cell_type": "markdown",
   "id": "e7865c16",
   "metadata": {},
   "source": [
    "8. Create a program to find the length of a string without using the `len()` function."
   ]
  },
  {
   "cell_type": "code",
   "execution_count": 68,
   "id": "6937f7be",
   "metadata": {},
   "outputs": [
    {
     "name": "stdout",
     "output_type": "stream",
     "text": [
      "There are 6 characters in String\n"
     ]
    }
   ],
   "source": [
    "a = \"String\"\n",
    "char = 0\n",
    "for i in a:\n",
    "    char+=1\n",
    "print(f\"There are {char} characters in {a}\")"
   ]
  },
  {
   "cell_type": "markdown",
   "id": "8274c798",
   "metadata": {},
   "source": [
    "9. Write a program that calculates the average of a list of numbers using a `for` loop."
   ]
  },
  {
   "cell_type": "code",
   "execution_count": 72,
   "id": "639c0a3e",
   "metadata": {},
   "outputs": [
    {
     "name": "stdout",
     "output_type": "stream",
     "text": [
      "Average = 2.5\n"
     ]
    }
   ],
   "source": [
    "a = [1,2,3,4]\n",
    "total = 0\n",
    "for i in a :\n",
    "    total+=i\n",
    "print(\"Average =\",total/len(a))\n",
    "    "
   ]
  },
  {
   "cell_type": "markdown",
   "id": "39427f64",
   "metadata": {},
   "source": [
    "10. Develop a program that prints the first `n` Fibonacci numbers using a `for` loop."
   ]
  },
  {
   "cell_type": "code",
   "execution_count": 101,
   "id": "31663994",
   "metadata": {},
   "outputs": [
    {
     "name": "stdout",
     "output_type": "stream",
     "text": [
      "Enter the Number: 5\n",
      "0 1 1 2 3 "
     ]
    }
   ],
   "source": [
    "a = int(input(\"Enter the Number: \"))\n",
    "n1 = 0\n",
    "n2 = 1\n",
    "for i in range(0 , a):\n",
    "    print(n1 , end = \" \")\n",
    "    n1 , n2 = n2 , n2 + n1\n",
    "    \n",
    "    \n",
    "\n",
    "\n",
    "\n"
   ]
  },
  {
   "cell_type": "markdown",
   "id": "ee7ee94d",
   "metadata": {},
   "source": [
    "# Intermediate Level:"
   ]
  },
  {
   "cell_type": "markdown",
   "id": "0dc3f54e",
   "metadata": {},
   "source": [
    "11.  Write a program to check if a given list contains any duplicates using a `for` loop."
   ]
  },
  {
   "cell_type": "code",
   "execution_count": 12,
   "id": "cad740a0",
   "metadata": {},
   "outputs": [
    {
     "name": "stdout",
     "output_type": "stream",
     "text": [
      "True\n"
     ]
    }
   ],
   "source": [
    "a = [1,2,3,4,5,1]\n",
    "b =[]\n",
    "for i in a:\n",
    "    if i in b:\n",
    "        print(True)\n",
    "    b.append(i)\n",
    "\n",
    "    "
   ]
  },
  {
   "cell_type": "markdown",
   "id": "e97c4520",
   "metadata": {},
   "source": [
    " 12. Create a program that prints the prime numbers in a given range using a `for` loop."
   ]
  },
  {
   "cell_type": "code",
   "execution_count": 9,
   "id": "1026c0c6",
   "metadata": {},
   "outputs": [
    {
     "name": "stdout",
     "output_type": "stream",
     "text": [
      "Enter your number: 11\n",
      "Prime\n"
     ]
    }
   ],
   "source": [
    "a  = int(input(\"Enter your number: \"))\n",
    "if a == 2 :\n",
    "    print(\"Prime\")\n",
    "for i in range(2,a):\n",
    "    if a%i==0:\n",
    "        print('Not Prime')\n",
    "        break\n",
    "else:\n",
    "    print(\"Prime\")\n",
    "\n",
    "    \n",
    "    "
   ]
  },
  {
   "cell_type": "markdown",
   "id": "bbf60198",
   "metadata": {},
   "source": [
    "13.Develop a program that counts the number of vowels in a string using a `for` loop"
   ]
  },
  {
   "cell_type": "code",
   "execution_count": 45,
   "id": "af407dbc",
   "metadata": {},
   "outputs": [
    {
     "name": "stdout",
     "output_type": "stream",
     "text": [
      "Number of vowels are 1\n"
     ]
    }
   ],
   "source": [
    "a = \"String\"\n",
    "vowels = \"aeiouAEIOU\"\n",
    "count = 0\n",
    "for i in a:\n",
    "    if i in vowels:\n",
    "        count+=1\n",
    "print(f\"Number of vowels are {count}\")\n",
    "        "
   ]
  },
  {
   "cell_type": "markdown",
   "id": "4f139a85",
   "metadata": {},
   "source": [
    "14. Write a program to find the maximum element in a 2D list using a nested `for` loop"
   ]
  },
  {
   "cell_type": "code",
   "execution_count": 11,
   "id": "2b4895f6",
   "metadata": {},
   "outputs": [
    {
     "name": "stdout",
     "output_type": "stream",
     "text": [
      "62\n"
     ]
    }
   ],
   "source": [
    "def find_max(matrix):\n",
    "    max_element = matrix[0][0]\n",
    "    for row in matrix:\n",
    "        for element in row:\n",
    "            if element > max_element:\n",
    "                max_element = element\n",
    "    return max_element\n",
    "\n",
    "a = [[1,22,3],[5,62,7],[8,9,10]]\n",
    "print(find_max(a))"
   ]
  },
  {
   "cell_type": "markdown",
   "id": "11b0aebb",
   "metadata": {},
   "source": [
    "15. Create a program that removes all occurrences of a specific element from a list using a `for` loop."
   ]
  },
  {
   "cell_type": "code",
   "execution_count": 28,
   "id": "ed1f4f6c",
   "metadata": {},
   "outputs": [
    {
     "name": "stdout",
     "output_type": "stream",
     "text": [
      "Enter the element you want to remove: 4\n",
      "[1, 2, 3, 5, 3, 2, 6]\n"
     ]
    }
   ],
   "source": [
    "a = [1,2,3,4,4,4,5,3,2,6]\n",
    "b = int(input(\"Enter the element you want to remove: \"))\n",
    "c=[]\n",
    "for i in a:\n",
    "    if i != b:\n",
    "        c.append(i)\n",
    "print(c)"
   ]
  },
  {
   "cell_type": "markdown",
   "id": "64aa4081",
   "metadata": {},
   "source": [
    "6. Develop a program that generates a multiplication table for numbers from 1 to 5 using a nested `for` loop."
   ]
  },
  {
   "cell_type": "code",
   "execution_count": 53,
   "id": "a2a08ab4",
   "metadata": {},
   "outputs": [
    {
     "name": "stdout",
     "output_type": "stream",
     "text": [
      "1 * 1 = 1\n",
      "1 * 2 = 2\n",
      "1 * 3 = 3\n",
      "1 * 4 = 4\n",
      "1 * 5 = 5\n",
      "1 * 6 = 6\n",
      "1 * 7 = 7\n",
      "1 * 8 = 8\n",
      "1 * 9 = 9\n",
      "1 * 10 = 10\n",
      "2 * 1 = 2\n",
      "2 * 2 = 4\n",
      "2 * 3 = 6\n",
      "2 * 4 = 8\n",
      "2 * 5 = 10\n",
      "2 * 6 = 12\n",
      "2 * 7 = 14\n",
      "2 * 8 = 16\n",
      "2 * 9 = 18\n",
      "2 * 10 = 20\n",
      "3 * 1 = 3\n",
      "3 * 2 = 6\n",
      "3 * 3 = 9\n",
      "3 * 4 = 12\n",
      "3 * 5 = 15\n",
      "3 * 6 = 18\n",
      "3 * 7 = 21\n",
      "3 * 8 = 24\n",
      "3 * 9 = 27\n",
      "3 * 10 = 30\n",
      "4 * 1 = 4\n",
      "4 * 2 = 8\n",
      "4 * 3 = 12\n",
      "4 * 4 = 16\n",
      "4 * 5 = 20\n",
      "4 * 6 = 24\n",
      "4 * 7 = 28\n",
      "4 * 8 = 32\n",
      "4 * 9 = 36\n",
      "4 * 10 = 40\n",
      "5 * 1 = 5\n",
      "5 * 2 = 10\n",
      "5 * 3 = 15\n",
      "5 * 4 = 20\n",
      "5 * 5 = 25\n",
      "5 * 6 = 30\n",
      "5 * 7 = 35\n",
      "5 * 8 = 40\n",
      "5 * 9 = 45\n",
      "5 * 10 = 50\n"
     ]
    }
   ],
   "source": [
    "for i in range(1 , 6):\n",
    "    for e in range(1 ,11):\n",
    "         print(f\"{i} * {e} = {i*e}\")\n",
    "        \n",
    "   "
   ]
  },
  {
   "cell_type": "markdown",
   "id": "af7e0f5a",
   "metadata": {},
   "source": [
    "17. Write a program that converts a list of Fahrenheit temperatures to Celsius using a `for` loop."
   ]
  },
  {
   "cell_type": "code",
   "execution_count": 68,
   "id": "a6242952",
   "metadata": {},
   "outputs": [
    {
     "name": "stdout",
     "output_type": "stream",
     "text": [
      "[-15.0, -12.222222222222223, -9.444444444444445, -6.666666666666667]\n"
     ]
    }
   ],
   "source": [
    "a = [5,10,15,20]\n",
    "b=[]\n",
    "for i in a :\n",
    "    celsius = (i - 32) * (5/9) #Conversion formula\n",
    "    b.append(celsius)\n",
    "print(b)\n",
    "    \n"
   ]
  },
  {
   "cell_type": "markdown",
   "id": "020e246d",
   "metadata": {},
   "source": [
    "18. Create a program to print the common elements from two lists using a `for` loop."
   ]
  },
  {
   "cell_type": "code",
   "execution_count": 70,
   "id": "7c6b1cc4",
   "metadata": {},
   "outputs": [
    {
     "name": "stdout",
     "output_type": "stream",
     "text": [
      "5\n",
      "6\n",
      "7\n",
      "8\n",
      "9\n"
     ]
    }
   ],
   "source": [
    "a = [1,2,3,4,5,6,7,8,9,10]\n",
    "b = [5,6,7,8,9]\n",
    "for i in a:\n",
    "    for e in b:\n",
    "        if i==e:\n",
    "            print(i)\n"
   ]
  },
  {
   "cell_type": "markdown",
   "id": "f57a17ad",
   "metadata": {},
   "source": [
    "19. Develop a program that prints the pattern of right-angled triangles using a `for` loop. Use ‘*’ to draw the \n",
    "pattern"
   ]
  },
  {
   "cell_type": "code",
   "execution_count": 74,
   "id": "22f6d481",
   "metadata": {},
   "outputs": [
    {
     "name": "stdout",
     "output_type": "stream",
     "text": [
      "*\n",
      "**\n",
      "***\n",
      "****\n",
      "*****\n",
      "******\n",
      "*******\n",
      "********\n",
      "*********\n",
      "**********\n",
      "***********\n",
      "************\n",
      "*************\n",
      "**************\n"
     ]
    }
   ],
   "source": [
    "for i in range(1 , 15):\n",
    "    print(\"*\" * i)"
   ]
  },
  {
   "cell_type": "markdown",
   "id": "f4142cc6",
   "metadata": {},
   "source": [
    "20. Write a program to find the greatest common divisor (GCD) of two numbers using a `for` loop"
   ]
  },
  {
   "cell_type": "code",
   "execution_count": 25,
   "id": "f6036b6e",
   "metadata": {},
   "outputs": [
    {
     "name": "stdout",
     "output_type": "stream",
     "text": [
      "The GCD of 56 and 98 is: 14\n"
     ]
    }
   ],
   "source": [
    "def gcd(a, b):\n",
    "    \n",
    "    for i in range(min(a, b), 0, -1):\n",
    "        if a % i == 0 and b % i == 0:\n",
    "            return i\n",
    "\n",
    "\n",
    "a = 56\n",
    "b = 98\n",
    "\n",
    "print(\"The GCD of\", a, \"and\", b, \"is:\", gcd(a, b))\n"
   ]
  },
  {
   "cell_type": "markdown",
   "id": "fbd0303f",
   "metadata": {},
   "source": [
    "# Advanced Level:\n"
   ]
  },
  {
   "cell_type": "markdown",
   "id": "f362f13f",
   "metadata": {},
   "source": [
    "21. Create a program that calculates the sum of the digits of numbers in a list using a list comprehension."
   ]
  },
  {
   "cell_type": "code",
   "execution_count": 94,
   "id": "5254c6b5",
   "metadata": {},
   "outputs": [
    {
     "data": {
      "text/plain": [
       "15"
      ]
     },
     "execution_count": 94,
     "metadata": {},
     "output_type": "execute_result"
    }
   ],
   "source": [
    "a = [1,2,3,4,5]\n",
    "\n",
    "b = sum([int(digit) for i in a for digit in str(i)])\n",
    "b"
   ]
  },
  {
   "cell_type": "markdown",
   "id": "d6130686",
   "metadata": {},
   "source": [
    "22. Write a program to find the prime factors of a given number using a `for` loop and list comprehension.\n"
   ]
  },
  {
   "cell_type": "code",
   "execution_count": 32,
   "id": "960879e0",
   "metadata": {},
   "outputs": [
    {
     "name": "stdout",
     "output_type": "stream",
     "text": [
      "Enter number: 45\n",
      "The prime factors of 45 are: [3, 5]\n"
     ]
    }
   ],
   "source": [
    "def is_prime(n):\n",
    "    if n < 2:\n",
    "        return False\n",
    "    for i in range(2, int(n**0.5) + 1):\n",
    "        if n % i == 0:\n",
    "            return False\n",
    "    return True\n",
    "\n",
    "def prime_factors(num):\n",
    "    \n",
    "    return [i for i in range(2, num + 1) if num % i == 0 and is_prime(i)]\n",
    "\n",
    "number = int(input(\"Enter number: \"))\n",
    "\n",
    "# Find and print the prime factors\n",
    "print(f\"The prime factors of {number} are:\", prime_factors(number))\n"
   ]
  },
  {
   "cell_type": "markdown",
   "id": "fc770e90",
   "metadata": {},
   "source": [
    "23. Develop a program that extracts unique elements from a list and stores them in a new list using a list \n",
    "comprehension."
   ]
  },
  {
   "cell_type": "code",
   "execution_count": 8,
   "id": "fa7b2f13",
   "metadata": {},
   "outputs": [
    {
     "data": {
      "text/plain": [
       "[1, 2, 3, 4, 5]"
      ]
     },
     "execution_count": 8,
     "metadata": {},
     "output_type": "execute_result"
    }
   ],
   "source": [
    "a = [1,2,2,3,3,4,5,5,5]\n",
    "s = set()\n",
    "unique_list = [x for x in a if x not in s  and not s.add(x)]\n",
    "unique_list"
   ]
  },
  {
   "cell_type": "markdown",
   "id": "3200ec38",
   "metadata": {},
   "source": [
    "24. Create a program that generates a list of all palindromic numbers up to a specified limit using a list \n",
    "comprehension."
   ]
  },
  {
   "cell_type": "code",
   "execution_count": 29,
   "id": "f4dd9928",
   "metadata": {},
   "outputs": [
    {
     "name": "stdout",
     "output_type": "stream",
     "text": [
      "Enter Limit: 67\n",
      "The palindromic numbers up to 67 are: [0, 1, 2, 3, 4, 5, 6, 7, 8, 9, 11, 22, 33, 44, 55, 66]\n"
     ]
    }
   ],
   "source": [
    "def is_palindromic(n):\n",
    "    \n",
    "    return str(n) == str(n)[::-1]\n",
    "\n",
    "def palindromic_numbers(limit):\n",
    "    \n",
    "    return [i for i in range(limit + 1) if is_palindromic(i)]\n",
    "\n",
    "limit = int(input('Enter Limit: '))\n",
    "\n",
    "print(f\"The palindromic numbers up to {limit} are:\", palindromic_numbers(limit))\n"
   ]
  },
  {
   "cell_type": "markdown",
   "id": "ac4fd0c5",
   "metadata": {},
   "source": [
    "25. Write a program to flatten a nested list using list comprehension.\n"
   ]
  },
  {
   "cell_type": "code",
   "execution_count": 10,
   "id": "ea209f84",
   "metadata": {},
   "outputs": [
    {
     "data": {
      "text/plain": [
       "[1, 2, 3, 4, 5, 6, 7, 8, 9]"
      ]
     },
     "execution_count": 10,
     "metadata": {},
     "output_type": "execute_result"
    }
   ],
   "source": [
    "a = [[1,2,3] ,[4,5,6] ,[7,8,9]]\n",
    "b = [e for i in a for e in i  ]\n",
    "b"
   ]
  },
  {
   "cell_type": "markdown",
   "id": "4fb6b37b",
   "metadata": {},
   "source": [
    "6. Develop a program that computes the sum of even and odd numbers in a list separately using list \n",
    "comprehension"
   ]
  },
  {
   "cell_type": "code",
   "execution_count": 27,
   "id": "9e1381f6",
   "metadata": {},
   "outputs": [
    {
     "name": "stdout",
     "output_type": "stream",
     "text": [
      "Odd and Even numbers are:[[2, 4, 6, 8], [1, 3, 5, 7]]\n"
     ]
    }
   ],
   "source": [
    "a = [1,2,3,4,5,6,7,8]\n",
    "\n",
    "b = [[i for i in a if i%2 == 0],[e for e in a if e%2 != 0 ]]\n",
    "print(f\"Even and Odd numbers are:{b}\")"
   ]
  },
  {
   "cell_type": "markdown",
   "id": "ce7f6d5d",
   "metadata": {},
   "source": [
    "27. Create a program that generates a list of squares of odd numbers between 1 and 10 using list \n",
    "comprehension."
   ]
  },
  {
   "cell_type": "code",
   "execution_count": 29,
   "id": "1b1d9508",
   "metadata": {},
   "outputs": [
    {
     "name": "stdout",
     "output_type": "stream",
     "text": [
      "[1, 9, 25, 49, 81]\n"
     ]
    }
   ],
   "source": [
    "a = [1,2,3,4,5,6,7,8,9,10]\n",
    "\n",
    "s = [i**2 for i in a if i%2 != 0 ]\n",
    "print(s)"
   ]
  },
  {
   "cell_type": "markdown",
   "id": "df314d3a",
   "metadata": {},
   "source": [
    "28. Write a program that combines two lists into a dictionary using list comprehension.\n"
   ]
  },
  {
   "cell_type": "code",
   "execution_count": 31,
   "id": "cde85027",
   "metadata": {},
   "outputs": [
    {
     "data": {
      "text/plain": [
       "[{'One': 1, 'Two': 2, 'Three': 3}]"
      ]
     },
     "execution_count": 31,
     "metadata": {},
     "output_type": "execute_result"
    }
   ],
   "source": [
    "a = [\"One\",\"Two\",\"Three\"]\n",
    "b = [1 , 2 , 3]\n",
    "\n",
    "c = [{key : value for key,value in zip(a , b)}]\n",
    "c"
   ]
  },
  {
   "cell_type": "markdown",
   "id": "10acb275",
   "metadata": {},
   "source": [
    "29. Develop a program that extracts the vowels from a string and stores them in a list using list comprehension.\n"
   ]
  },
  {
   "cell_type": "code",
   "execution_count": 38,
   "id": "6276eeb3",
   "metadata": {},
   "outputs": [
    {
     "data": {
      "text/plain": [
       "['o', 'u', 'i', 'o', 'e']"
      ]
     },
     "execution_count": 38,
     "metadata": {},
     "output_type": "execute_result"
    }
   ],
   "source": [
    "a = \"counting vowels\"\n",
    "v = \"AEIOUaeiou\"\n",
    "f = [i for i in a if i in v]\n",
    "f\n"
   ]
  },
  {
   "cell_type": "markdown",
   "id": "cac04637",
   "metadata": {},
   "source": [
    "30. Create a program that removes all non-numeric characters from a list of strings using list comprehension.\n"
   ]
  },
  {
   "cell_type": "code",
   "execution_count": 58,
   "id": "c0055e69",
   "metadata": {},
   "outputs": [
    {
     "data": {
      "text/plain": [
       "['12', '8', '34']"
      ]
     },
     "execution_count": 58,
     "metadata": {},
     "output_type": "execute_result"
    }
   ],
   "source": [
    "a = [\"12SH\" , \"KH8\",'aug34']\n",
    "\n",
    "f = [''.join([char for char in s if char.isdigit()]) for s in a]\n",
    "\n",
    "f"
   ]
  },
  {
   "cell_type": "markdown",
   "id": "3742698f",
   "metadata": {},
   "source": [
    "# Challenge Level:\n"
   ]
  },
  {
   "cell_type": "markdown",
   "id": "fa824525",
   "metadata": {},
   "source": [
    "Write a program to generate a list of prime numbers using the Sieve of Eratosthenes algorithm and list \n",
    "comprehension."
   ]
  },
  {
   "cell_type": "code",
   "execution_count": 2,
   "id": "5a00b216",
   "metadata": {},
   "outputs": [
    {
     "name": "stdout",
     "output_type": "stream",
     "text": [
      "Generate primes up to: 8\n",
      "[2, 3, 5, 7]\n"
     ]
    }
   ],
   "source": [
    "def generate_primes(n):\n",
    "    sieve = [True] * (n+1)\n",
    "    sieve[0], sieve[1] = False, False \n",
    "\n",
    "    for i in range(2, int(n**0.5) + 1):\n",
    "        if sieve[i]:\n",
    "            for j in range(i*i, n+1, i):\n",
    "                sieve[j] = False\n",
    "\n",
    "    return [i for i, is_prime in enumerate(sieve) if is_prime]\n",
    "\n",
    "n = int(input(\"Generate primes up to: \"))\n",
    "print(generate_primes(n))\n"
   ]
  },
  {
   "cell_type": "markdown",
   "id": "9d350f76",
   "metadata": {},
   "source": [
    "32. Create a program that generates a list of all Pythagorean triplets up to a specified limit using list \n",
    "comprehension."
   ]
  },
  {
   "cell_type": "code",
   "execution_count": 4,
   "id": "eb8396d5",
   "metadata": {},
   "outputs": [
    {
     "name": "stdout",
     "output_type": "stream",
     "text": [
      "Generate Pythagorean triplets up to limit (for c): 15\n",
      "[(3, 4, 5), (6, 8, 10), (5, 12, 13), (9, 12, 15)]\n"
     ]
    }
   ],
   "source": [
    "def generate_pythagorean_triplets(limit):\n",
    "    return [(a, b, c) \n",
    "            for c in range(3, limit + 1)\n",
    "            for b in range(2, c)\n",
    "            for a in range(1, b)\n",
    "            if a**2 + b**2 == c**2]\n",
    "\n",
    "\n",
    "limit = int(input(\"Generate Pythagorean triplets up to limit (for c): \"))\n",
    "print(generate_pythagorean_triplets(limit))\n",
    "                                                                             "
   ]
  },
  {
   "cell_type": "markdown",
   "id": "431448df",
   "metadata": {},
   "source": [
    "33. Develop a program that generates a list of all possible combinations of two lists using list comprehension.\n"
   ]
  },
  {
   "cell_type": "code",
   "execution_count": 1,
   "id": "4cac6d85",
   "metadata": {},
   "outputs": [
    {
     "data": {
      "text/plain": [
       "[(1, 4), (1, 5), (1, 6), (2, 4), (2, 5), (2, 6), (3, 4), (3, 5), (3, 6)]"
      ]
     },
     "execution_count": 1,
     "metadata": {},
     "output_type": "execute_result"
    }
   ],
   "source": [
    "a=[1,2,3]\n",
    "b=[4,5,6]\n",
    "\n",
    "s = [(i , e) for i in a for e in b ]\n",
    "s"
   ]
  },
  {
   "cell_type": "markdown",
   "id": "aab8c8e5",
   "metadata": {},
   "source": [
    "34. Write a program that calculates the mean, median, and mode of a list of numbers using list \n",
    "comprehension."
   ]
  },
  {
   "cell_type": "code",
   "execution_count": 5,
   "id": "dac83de1",
   "metadata": {},
   "outputs": [
    {
     "data": {
      "text/plain": [
       "[1, 2, 3, 3, 3, 4, 5]"
      ]
     },
     "execution_count": 5,
     "metadata": {},
     "output_type": "execute_result"
    }
   ],
   "source": [
    "a = [1,2,3,3,4,5,3]\n",
    "mean = sum([i for i in a ]) / len(a)\n",
    "mean\n"
   ]
  },
  {
   "cell_type": "code",
   "execution_count": 24,
   "id": "1890192e",
   "metadata": {},
   "outputs": [
    {
     "name": "stdout",
     "output_type": "stream",
     "text": [
      "The median is: 3.5\n"
     ]
    }
   ],
   "source": [
    "def calculate_median(numbers):\n",
    "    sorted_numbers = sorted(numbers)\n",
    "    n = len(sorted_numbers)\n",
    "    \n",
    "    # If the length of the list is even\n",
    "    if n % 2 == 0:\n",
    "        median1 = sorted_numbers[n//2]\n",
    "        median2 = sorted_numbers[n//2 - 1]\n",
    "        median = (median1 + median2)/2\n",
    "    # If the length of the list is odd\n",
    "    else:\n",
    "        \n",
    "        median = sorted_numbers[n//2]\n",
    "        \n",
    "    return median\n",
    "\n",
    "a = [1,2,3,6,4,5]\n",
    "numbers = [int(x) for x in a]\n",
    "print(f\"The median is: {calculate_median(numbers)}\")\n"
   ]
  },
  {
   "cell_type": "code",
   "execution_count": 30,
   "id": "14f9baff",
   "metadata": {},
   "outputs": [
    {
     "name": "stdout",
     "output_type": "stream",
     "text": [
      "Enter a list of numbers separated by spaces: 2 3 5 5 6 4 6 5 \n",
      "The mode(s) is/are: 5\n"
     ]
    }
   ],
   "source": [
    "def calculate_mode(numbers):\n",
    "    frequency = {}  \n",
    "\n",
    "    for number in numbers:\n",
    "        if number in frequency:\n",
    "            frequency[number] += 1\n",
    "        else:\n",
    "            frequency[number] = 1\n",
    "\n",
    "    modes = [key for key, value in frequency.items() if value == max(frequency.values())]\n",
    "\n",
    "    return modes\n",
    "\n",
    "numbers = [int(x) for x in input(\"Enter a list of numbers separated by spaces: \").split()]\n",
    "modes = calculate_mode(numbers)\n",
    "\n",
    "if len(modes) == len(numbers):\n",
    "    print(\"No mode found.\")\n",
    "else:\n",
    "    print(f\"The mode(s) is: {', '.join(map(str, modes))}\")\n"
   ]
  },
  {
   "cell_type": "markdown",
   "id": "c0a39fc2",
   "metadata": {},
   "source": [
    "37. Write a program that finds the longest word in a sentence using list comprehension.\n"
   ]
  },
  {
   "cell_type": "code",
   "execution_count": 29,
   "id": "81e1365f",
   "metadata": {},
   "outputs": [
    {
     "data": {
      "text/plain": [
       "'string'"
      ]
     },
     "execution_count": 29,
     "metadata": {},
     "output_type": "execute_result"
    }
   ],
   "source": [
    "a = \"This is a string\"\n",
    "b = max([i for i in a.split()])\n",
    "b"
   ]
  },
  {
   "cell_type": "markdown",
   "id": "99a74cbd",
   "metadata": {},
   "source": [
    "38. Create a program that filters a list of strings to include only those with more than three vowels using list \n",
    "comprehension."
   ]
  },
  {
   "cell_type": "code",
   "execution_count": 5,
   "id": "693f52c2",
   "metadata": {},
   "outputs": [
    {
     "name": "stdout",
     "output_type": "stream",
     "text": [
      "['beautiful']\n"
     ]
    }
   ],
   "source": [
    "def count_vowels(s):\n",
    "    vowels = set('aeiouAEIOU')\n",
    "    return sum(1 for char in s if char in vowels)\n",
    "\n",
    "words = [\"programming\", \"hello\", \"beautiful\", \"apple\", \"banana\", \"cherry\"]\n",
    "\n",
    "words_with_more_than_three_vowels = [word for word in words if count_vowels(word) > 3]\n",
    "\n",
    "print(words_with_more_than_three_vowels)\n"
   ]
  },
  {
   "cell_type": "markdown",
   "id": "4ed94e8c",
   "metadata": {},
   "source": [
    "39. Develop a program that calculates the sum of the digits of numbers from 1 to 1000 using list \n",
    "comprehension."
   ]
  },
  {
   "cell_type": "code",
   "execution_count": 1,
   "id": "5814e02f",
   "metadata": {},
   "outputs": [
    {
     "data": {
      "text/plain": [
       "500500"
      ]
     },
     "execution_count": 1,
     "metadata": {},
     "output_type": "execute_result"
    }
   ],
   "source": [
    "s = sum([i for i in range(1,1001)])\n",
    "s"
   ]
  },
  {
   "cell_type": "markdown",
   "id": "6d6bfd86",
   "metadata": {},
   "source": [
    "40. Write a program that generates a list of prime palindromic numbers using list comprehension.\n"
   ]
  },
  {
   "cell_type": "code",
   "execution_count": 4,
   "id": "dbe74816",
   "metadata": {},
   "outputs": [
    {
     "name": "stdout",
     "output_type": "stream",
     "text": [
      "[2, 3, 5, 7, 11]\n"
     ]
    }
   ],
   "source": [
    "def is_prime(n):\n",
    "    if n < 2:\n",
    "        return False\n",
    "    if n == 2:\n",
    "        return True\n",
    "    if n % 2 == 0:\n",
    "        return False\n",
    "    max_divisor = int(n**0.5) + 1\n",
    "    for d in range(3, max_divisor, 2):\n",
    "        if n % d == 0:\n",
    "            return False\n",
    "    return True\n",
    "\n",
    "def is_palindrome(n):\n",
    "    return str(n) == str(n)[::-1]\n",
    "\n",
    "prime_palindromic_numbers = [num for num in range(100) if is_prime(num) and is_palindrome(num)]\n",
    "\n",
    "print(prime_palindromic_numbers)\n"
   ]
  },
  {
   "cell_type": "code",
   "execution_count": null,
   "id": "88e0efa1",
   "metadata": {},
   "outputs": [],
   "source": []
  },
  {
   "cell_type": "code",
   "execution_count": null,
   "id": "1e863bd1",
   "metadata": {},
   "outputs": [],
   "source": []
  },
  {
   "cell_type": "code",
   "execution_count": null,
   "id": "a69a2cfe",
   "metadata": {},
   "outputs": [],
   "source": []
  }
 ],
 "metadata": {
  "kernelspec": {
   "display_name": "Python 3 (ipykernel)",
   "language": "python",
   "name": "python3"
  },
  "language_info": {
   "codemirror_mode": {
    "name": "ipython",
    "version": 3
   },
   "file_extension": ".py",
   "mimetype": "text/x-python",
   "name": "python",
   "nbconvert_exporter": "python",
   "pygments_lexer": "ipython3",
   "version": "3.10.9"
  }
 },
 "nbformat": 4,
 "nbformat_minor": 5
}
